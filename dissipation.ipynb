{
 "cells": [
  {
   "cell_type": "markdown",
   "id": "equivalent-complex",
   "metadata": {},
   "source": [
    "### Computation of the derivative of velocity field using FFT"
   ]
  },
  {
   "cell_type": "code",
   "execution_count": 1,
   "id": "environmental-press",
   "metadata": {},
   "outputs": [],
   "source": [
    "import numpy as np\n",
    "import h5py"
   ]
  },
  {
   "cell_type": "markdown",
   "id": "junior-gnome",
   "metadata": {},
   "source": [
    "### Fourier Transform "
   ]
  },
  {
   "cell_type": "code",
   "execution_count": 2,
   "id": "decimal-quebec",
   "metadata": {},
   "outputs": [],
   "source": [
    "def FT(A):\n",
    "    N = A.shape[0]\n",
    "    A = A / N**3\t\t# Normalization\n",
    "    return np.fft.rfftn(A)\n",
    "\n",
    "# Inverse Fourier Transform\n",
    "def IFT(A):\n",
    "    N = A.shape[0]\n",
    "    A = A * N**3\t\t# Normalization\n",
    "    return np.fft.irfftn(A)"
   ]
  },
  {
   "cell_type": "markdown",
   "id": "shared-juvenile",
   "metadata": {},
   "source": [
    "### Loading of velocity data"
   ]
  },
  {
   "cell_type": "code",
   "execution_count": 3,
   "id": "positive-radical",
   "metadata": {},
   "outputs": [],
   "source": [
    "def expand_thirdComponent(Ux, Uy, Uz):\n",
    "    \"\"\"\n",
    "    Uz is only the velocity field of the plane kz = 0.\n",
    "    This function expands the third component of velocity to match the array size of the first two components.\n",
    "    This is achieved from the incompressibility condition: U3 = (-kxUx -kyUy)/kz; kz!= 0. \n",
    "\n",
    "    \"\"\"\n",
    "    kxUx = Ux.copy()\n",
    "    N = Ux.shape[0]\n",
    "    kx_list = np.fft.fftfreq(N, 1./N)\n",
    "    for i, kx in enumerate(kx_list):\n",
    "        kxUx[i,:,:] = kx * Ux[i,:,:]\n",
    "        \n",
    "    kyUy = Uy.copy()\n",
    "    N = Uy.shape[0]\n",
    "    ky_list = np.fft.fftfreq(N, 1./N)\n",
    "    for j, ky in enumerate(ky_list):\n",
    "        kyUy[:,j,:] = ky * Uy[:,j,:]\n",
    "        \n",
    "    U3 = -(kxUx + kyUy)\n",
    "    U3[:,:,0] = Uz[:,:,0]\n",
    "\n",
    "    kz_list = np.fft.rfftfreq(N, 1./N)\n",
    "    for k, kz in enumerate(kz_list):\n",
    "        if(kz != 0):\n",
    "            U3[:,:,k] = U3[:,:,k]/kz\n",
    "    \n",
    "    return U3"
   ]
  },
  {
   "cell_type": "code",
   "execution_count": 4,
   "id": "distributed-audit",
   "metadata": {},
   "outputs": [],
   "source": [
    "def read_complexVelocityField(input_dir = \".\"):\n",
    "    \"\"\"\n",
    "    Returns the components of complex velocity field.\n",
    "    \"\"\"\n",
    "    f = h5py.File(input_dir + '/U.V1.h5', 'r')\n",
    "    V1 = f['U.V1']['real'] + 1j * f['U.V1']['imag']\n",
    "    f.close()\n",
    "    \n",
    "    f = h5py.File(input_dir + '/U.V2.h5', 'r')\n",
    "    V2 = f['U.V2']['real'] + 1j * f['U.V2']['imag']\n",
    "    f.close()\n",
    "    \n",
    "    f = h5py.File(input_dir + '/U.V3kz0.h5', 'r')\n",
    "    V3_kz0 = f['U.V3kz0']['real'] + 1j * f['U.V3kz0']['imag']\n",
    "    f.close()\n",
    "    \n",
    "    V3 = expand_thirdComponent(V1, V2, V3_kz0)\n",
    "    \n",
    "    return V1, V2, V3"
   ]
  },
  {
   "cell_type": "markdown",
   "id": "excellent-impact",
   "metadata": {},
   "source": [
    "### Derivatives"
   ]
  },
  {
   "cell_type": "code",
   "execution_count": 5,
   "id": "genetic-malpractice",
   "metadata": {},
   "outputs": [],
   "source": [
    "def derivatives(Uj):\n",
    "    \"\"\"\n",
    "    Derivative components dU/dx, dU/dy, and dU/dz of a given velocity component U.\n",
    "    Input: Complex velocity field component U (a numpy array) of size N*N*(N/2+1)\n",
    "    Returns: 3 numpy arrays of size N*N*N\n",
    "\n",
    "    \"\"\"\n",
    "    \n",
    "    ## Derivative of Uj wrt x\n",
    "    kxUj = Uj.copy()\n",
    "    N = Uj.shape[0]\n",
    "    kx_list = np.fft.fftfreq(N, 1./N)\n",
    "    for i, kx in enumerate(kx_list):\n",
    "        kxUj[i,:,:] = kx * Uj[i,:,:]\n",
    "    kxUj = 1j * kxUj\n",
    "    dxuj = IFT(kxUj)\n",
    "\n",
    "    ## Derivative of Uj wrt y\n",
    "    kyUj = Uj.copy()\n",
    "    N = Uj.shape[1]\n",
    "    ky_list = np.fft.fftfreq(N, 1./N)\n",
    "    for j, ky in enumerate(ky_list):\n",
    "        kyUj[:,j,:] = ky * Uj[:,j,:]\n",
    "    kyUj = 1j * kyUj\n",
    "    dyuj = IFT(kyUj)\n",
    "\n",
    "    ## Derivative of Uj wrt z\n",
    "    kzUj = Uj.copy()\n",
    "    N = 2*(Uj.shape[2]-1)\n",
    "    kz_list = np.fft.rfftfreq(N, 1./N)\n",
    "    for k, kz in enumerate(kz_list):\n",
    "        kzUj[:,:,k] = kz * Uj[:,:,k]\n",
    "    kzUj = 1j * kzUj\n",
    "    dzuj = IFT(kzUj)\n",
    "\n",
    "    return dxuj, dyuj, dzuj"
   ]
  },
  {
   "cell_type": "markdown",
   "id": "perfect-oriental",
   "metadata": {},
   "source": [
    "### Calculation of Dissipation rate "
   ]
  },
  {
   "cell_type": "code",
   "execution_count": 6,
   "id": "clear-director",
   "metadata": {},
   "outputs": [],
   "source": [
    "def dissipationRate(nu, U1, U2, U3):\n",
    "    \"\"\"\n",
    "    Compute the local energy dissipation rate.\n",
    "\n",
    "    \"\"\"\n",
    "    # \tU1, U2, U3 = read_complexVelocityField()\n",
    "\n",
    "    d1u1, d2u1, d3u1 = derivatives(U1)\n",
    "    d1u2, d2u2, d3u2 = derivatives(U2)\n",
    "    d1u3, d2u3, d3u3 = derivatives(U3)\n",
    "    \n",
    "    e11 = 2*d1u1\n",
    "    e22 = 2*d2u2\n",
    "    e33 = 2*d3u3\n",
    "    \n",
    "    e12 = d1u2 + d2u1\n",
    "    e13 = d1u3 + d3u1\n",
    "    e23 = d2u3 + d3u2\n",
    "    \n",
    "    eps = (e11**2 + e22**2 + e33**2) + 2 * (e12**2 + e13**2 + e23**2)\n",
    "    eps = 0.5 * nu * eps\n",
    "    return eps"
   ]
  },
  {
   "cell_type": "code",
   "execution_count": 7,
   "id": "applicable-eugene",
   "metadata": {},
   "outputs": [
    {
     "name": "stdout",
     "output_type": "stream",
     "text": [
      "This is a module!\n"
     ]
    }
   ],
   "source": [
    "if __name__=='__main__':\n",
    "    print(\"This is a module!\")"
   ]
  },
  {
   "cell_type": "code",
   "execution_count": 12,
   "id": "sharing-definition",
   "metadata": {},
   "outputs": [
    {
     "name": "stdout",
     "output_type": "stream",
     "text": [
      "eps shape:  (128, 128, 128)\n",
      "CPU times: user 727 ms, sys: 112 ms, total: 838 ms\n",
      "Wall time: 842 ms\n"
     ]
    }
   ],
   "source": [
    "%%time\n",
    "input_path = \"input_128/time_0\"\n",
    "U1, U2, U3 = read_complexVelocityField(input_path)\n",
    "eps = dissipationRate(1e-2, U1, U2, U3)\n",
    "print(\"eps shape: \",eps.shape)"
   ]
  },
  {
   "cell_type": "code",
   "execution_count": 13,
   "id": "challenging-break",
   "metadata": {},
   "outputs": [
    {
     "name": "stdout",
     "output_type": "stream",
     "text": [
      "[[[0.60027703 1.08026914 0.6669503  0.48240725]\n",
      "  [0.33108706 0.73879952 0.52685072 0.41009767]\n",
      "  [0.46761843 0.49991475 0.22344844 0.1722193 ]]\n",
      "\n",
      " [[0.5226808  1.16488456 0.67167815 0.34658244]\n",
      "  [0.11310318 0.39318145 0.42532917 0.3019423 ]\n",
      "  [0.50483197 0.46021183 0.56155983 0.24115902]]]\n"
     ]
    }
   ],
   "source": [
    "print(eps[:2,:3,:4])"
   ]
  },
  {
   "cell_type": "code",
   "execution_count": 15,
   "id": "molecular-appliance",
   "metadata": {},
   "outputs": [
    {
     "name": "stdout",
     "output_type": "stream",
     "text": [
      "1130374.8412256\n"
     ]
    }
   ],
   "source": [
    "print(np.sum(eps))"
   ]
  },
  {
   "cell_type": "code",
   "execution_count": null,
   "id": "literary-balloon",
   "metadata": {},
   "outputs": [],
   "source": []
  }
 ],
 "metadata": {
  "kernelspec": {
   "display_name": "Python 3",
   "language": "python",
   "name": "python3"
  },
  "language_info": {
   "codemirror_mode": {
    "name": "ipython",
    "version": 3
   },
   "file_extension": ".py",
   "mimetype": "text/x-python",
   "name": "python",
   "nbconvert_exporter": "python",
   "pygments_lexer": "ipython3",
   "version": "3.7.6"
  }
 },
 "nbformat": 4,
 "nbformat_minor": 5
}
